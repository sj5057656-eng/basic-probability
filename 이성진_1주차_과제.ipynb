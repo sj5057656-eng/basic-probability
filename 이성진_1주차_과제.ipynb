{
  "nbformat": 4,
  "nbformat_minor": 0,
  "metadata": {
    "colab": {
      "provenance": []
    },
    "kernelspec": {
      "name": "python3",
      "display_name": "Python 3"
    },
    "language_info": {
      "name": "python"
    }
  },
  "cells": [
    {
      "cell_type": "code",
      "execution_count": 1,
      "metadata": {
        "colab": {
          "base_uri": "https://localhost:8080/"
        },
        "id": "YxtV1IxoR-sa",
        "outputId": "3c12f356-83f3-4b5d-8209-270ca85d47a4"
      },
      "outputs": [
        {
          "output_type": "stream",
          "name": "stdout",
          "text": [
            "저의 이름은 이성진이고 20살 입니다.\n"
          ]
        }
      ],
      "source": [
        "print(\"저의 이름은 이성진이고 20살 입니다.\")"
      ]
    },
    {
      "cell_type": "code",
      "source": [],
      "metadata": {
        "id": "fPGlXzITSTAV"
      },
      "execution_count": null,
      "outputs": []
    }
  ]
}