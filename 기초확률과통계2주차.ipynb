{
  "nbformat": 4,
  "nbformat_minor": 0,
  "metadata": {
    "colab": {
      "provenance": []
    },
    "kernelspec": {
      "name": "python3",
      "display_name": "Python 3"
    },
    "language_info": {
      "name": "python"
    }
  },
  "cells": [
    {
      "cell_type": "code",
      "execution_count": 6,
      "metadata": {
        "colab": {
          "base_uri": "https://localhost:8080/"
        },
        "id": "2fSk04fSwvhi",
        "outputId": "ff284cc2-1506-4330-d437-05e1c3485981"
      },
      "outputs": [
        {
          "output_type": "stream",
          "name": "stdout",
          "text": [
            "[6, 5, 4, 3, 2]\n"
          ]
        }
      ],
      "source": [
        "a= [2,3,4,5,6]\n",
        "rev= []\n",
        "for _ in range(len(a)):\n",
        "  rev.append(a.pop())\n",
        "print(rev)\n"
      ]
    },
    {
      "cell_type": "code",
      "source": [],
      "metadata": {
        "id": "2FvGeh5Kx6HU"
      },
      "execution_count": null,
      "outputs": []
    }
  ]
}