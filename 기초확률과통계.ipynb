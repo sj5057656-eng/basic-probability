{
  "nbformat": 4,
  "nbformat_minor": 0,
  "metadata": {
    "colab": {
      "provenance": [],
      "authorship_tag": "ABX9TyNvcHvfrWWrS5LZ/dobKSP5",
      "include_colab_link": true
    },
    "kernelspec": {
      "name": "python3",
      "display_name": "Python 3"
    },
    "language_info": {
      "name": "python"
    }
  },
  "cells": [
    {
      "cell_type": "markdown",
      "metadata": {
        "id": "view-in-github",
        "colab_type": "text"
      },
      "source": [
        "<a href=\"https://colab.research.google.com/github/sj5057656-eng/basic-probability/blob/main/%EA%B8%B0%EC%B4%88%ED%99%95%EB%A5%A0%EA%B3%BC%ED%86%B5%EA%B3%84.ipynb\" target=\"_parent\"><img src=\"https://colab.research.google.com/assets/colab-badge.svg\" alt=\"Open In Colab\"/></a>"
      ]
    },
    {
      "cell_type": "code",
      "execution_count": 1,
      "metadata": {
        "colab": {
          "base_uri": "https://localhost:8080/"
        },
        "id": "YxtV1IxoR-sa",
        "outputId": "3c12f356-83f3-4b5d-8209-270ca85d47a4"
      },
      "outputs": [
        {
          "output_type": "stream",
          "name": "stdout",
          "text": [
            "저의 이름은 이성진이고 20살 입니다.\n"
          ]
        }
      ],
      "source": [
        "print(\"저의 이름은 이성진이고 20살 입니다.\")"
      ]
    },
    {
      "cell_type": "code",
      "source": [],
      "metadata": {
        "id": "fPGlXzITSTAV"
      },
      "execution_count": null,
      "outputs": []
    }
  ]
}